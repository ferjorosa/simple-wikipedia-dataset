{
 "cells": [
  {
   "metadata": {},
   "cell_type": "markdown",
   "source": [
    "# Objective\n",
    "\n",
    "The purpose of this notebook is to showcase how to parallel process multiple Wikipedia articles and store them in a SQLite Database to avoid repetition."
   ],
   "id": "2c3b3d1bc73e038"
  },
  {
   "metadata": {
    "ExecuteTime": {
     "end_time": "2025-01-01T18:45:05.374497Z",
     "start_time": "2025-01-01T18:44:47.326353Z"
    }
   },
   "cell_type": "code",
   "source": [
    "import os\n",
    "import yaml\n",
    "import time\n",
    "import pandas as pd\n",
    "from pathlib import Path\n",
    "from dotenv import load_dotenv\n",
    "from os import getenv\n",
    "\n",
    "from transformers import AutoTokenizer\n",
    "\n",
    "from src.convert_to_markdown import convert_text_to_markdown\n",
    "from src.utils.database import initialize_db, filter_rows_in_db, insert_row\n",
    "from src.utils.tokenizer import count_tokens\n",
    "from src.utils.parallel import parallel_process_dataframe\n",
    "\n",
    "load_dotenv()"
   ],
   "id": "bc3585e8e6da4082",
   "outputs": [
    {
     "data": {
      "text/plain": [
       "True"
      ]
     },
     "execution_count": 1,
     "metadata": {},
     "output_type": "execute_result"
    }
   ],
   "execution_count": 1
  },
  {
   "metadata": {},
   "cell_type": "markdown",
   "source": "## Load Config & Prompts",
   "id": "76be43a69c736f6c"
  },
  {
   "metadata": {
    "ExecuteTime": {
     "end_time": "2025-01-01T18:45:05.407283Z",
     "start_time": "2025-01-01T18:45:05.396114Z"
    }
   },
   "cell_type": "code",
   "source": [
    "config_path = \"../run_config.yaml\"\n",
    "prompts_path = \"../prompts.yaml\"\n",
    "\n",
    "with open(config_path, 'r') as file:\n",
    "    config = yaml.safe_load(file)\n",
    "\n",
    "with open(prompts_path, 'r') as file:\n",
    "    prompts = yaml.safe_load(file)"
   ],
   "id": "9f78e27a4076bbd3",
   "outputs": [],
   "execution_count": 2
  },
  {
   "metadata": {},
   "cell_type": "markdown",
   "source": "## Initialize SQLite DB",
   "id": "a856cce69b804d0b"
  },
  {
   "cell_type": "code",
   "id": "initial_id",
   "metadata": {
    "collapsed": true,
    "ExecuteTime": {
     "end_time": "2025-01-01T18:45:05.773496Z",
     "start_time": "2025-01-01T18:45:05.770770Z"
    }
   },
   "source": [
    "base_path = Path(\"../\")\n",
    "db_path = base_path / Path(config[\"data_folder\"]) / config[\"db_file\"]\n",
    "\n",
    "initialize_db(db_path)"
   ],
   "outputs": [
    {
     "name": "stdout",
     "output_type": "stream",
     "text": [
      "Database already exists at ../data/database.db\n"
     ]
    }
   ],
   "execution_count": 3
  },
  {
   "metadata": {},
   "cell_type": "markdown",
   "source": "## Load data",
   "id": "a78bc851db5ea58a"
  },
  {
   "metadata": {
    "ExecuteTime": {
     "end_time": "2025-01-01T18:45:06.548455Z",
     "start_time": "2025-01-01T18:45:05.780287Z"
    }
   },
   "cell_type": "code",
   "source": [
    "base_path = Path(\"../\")\n",
    "data_path = base_path / Path(config[\"processed_folder\"]) / config[\"output_file\"]\n",
    "\n",
    "data = pd.read_parquet(data_path)\n",
    "data[\"id\"] = data[\"id\"].astype(int).apply(int)\n",
    "\n",
    "print(data.shape)"
   ],
   "id": "e6d2ec960b009a9e",
   "outputs": [
    {
     "name": "stdout",
     "output_type": "stream",
     "text": [
      "(258559, 3)\n"
     ]
    }
   ],
   "execution_count": 4
  },
  {
   "metadata": {},
   "cell_type": "markdown",
   "source": "## Load tokenizer",
   "id": "ad8e10f897334b1e"
  },
  {
   "metadata": {
    "ExecuteTime": {
     "end_time": "2025-01-01T18:45:07.291625Z",
     "start_time": "2025-01-01T18:45:06.563446Z"
    }
   },
   "cell_type": "code",
   "source": [
    "model_hf = \"deepseek-ai/DeepSeek-V3\"\n",
    "\n",
    "# Retrieve the Hugging Face token from the environment variables\n",
    "huggingface_token = getenv(\"HUGGINGFACE_TOKEN\")\n",
    "\n",
    "# Load the tokenizer using the Hugging Face token for authentication\n",
    "tokenizer = AutoTokenizer.from_pretrained(model_hf, token=huggingface_token)"
   ],
   "id": "545d9ffe834e3958",
   "outputs": [],
   "execution_count": 5
  },
  {
   "metadata": {},
   "cell_type": "markdown",
   "source": "## Transform article to markdown",
   "id": "999f1780a44be05d"
  },
  {
   "metadata": {
    "ExecuteTime": {
     "end_time": "2025-01-01T18:45:07.307078Z",
     "start_time": "2025-01-01T18:45:07.301927Z"
    }
   },
   "cell_type": "code",
   "source": "count_tokens(tokenizer, data.iloc[2][\"text\"])",
   "id": "450de8b872776f3c",
   "outputs": [
    {
     "data": {
      "text/plain": [
       "1463"
      ]
     },
     "execution_count": 6,
     "metadata": {},
     "output_type": "execute_result"
    }
   ],
   "execution_count": 6
  },
  {
   "metadata": {
    "ExecuteTime": {
     "end_time": "2025-01-01T18:45:07.320219Z",
     "start_time": "2025-01-01T18:45:07.317926Z"
    }
   },
   "cell_type": "code",
   "source": "print(data.iloc[2][\"text\"])",
   "id": "592a9f8841a0ffcd",
   "outputs": [
    {
     "name": "stdout",
     "output_type": "stream",
     "text": [
      "= Art =\n",
      "\n",
      "Art is a creative activity. It produces a product, an object. Art is a diverse range of human activities in creating visual, performing subjects, and expressing the author's thoughts. The product of art is called a work of art, for others to experience.Various definitions in: Wilson, Simon & Lack, Jennifer 2008. The Tate guide to modern art terms. Tate Publishing. ISBN 978-1-85437-750-0E.H. Gombrich 1995. The story of art. London: Phaidon. ISBN 978-0714832470Kleiner, Gardner, Mamiya and Tansey. 2004. Art through the ages. 12th ed. 2 volumes, Wadsworth. ISBN 0-534-64095-8 (vol 1) and ISBN 0-534-64091-5 (vol 2) Some art is useful in a practical sense, such as a sculptured clay bowl that can be used. That kind of art is sometimes called a craft. Those who make art are called artists. They hope to affect the emotions of people who experience it. Some people find art relaxing, exciting or informative. Some say people are driven to make art due to their inner creativity. \"The arts\" is a much broader term. It includes drawing, painting, sculpting, photography, performance art, dance, music, poetry, prose and theatre. \n",
      "\n",
      "== Types of art ==\n",
      "\n",
      " Art is divided into the plastic arts, where something is made, and the performing arts, where something is done by humans in action. The other division is between pure arts, done for themselves, and practical arts, done for a practical purpose, but with artistic content. * Plastic art ** Fine art is expression by making something beautiful or appealing to the emotions by visual means: drawing, painting, printmaking, sculpture ** Literature: poetry, creative writing * Performing art ** Performing arts are expression using the body: drama, dance, acting, singing ** Auditory art (expression by making sounds): music, singing * Practical art ** Culinary art (expression by making flavors and tastes): cooking ** The practical arts (expression by making things and structures: architecture, filming, fashion, photography, video games) \n",
      "\n",
      "== What \"art\" means ==\n",
      "\n",
      " Some people say that art is a product or item that is made with the intention of stimulating the human senses as well as the human mind, spirit and soul. Art can also be an Idea or a concept that is expressed visually. An artwork is normally judged by how much impact it has on people, the number of people who can relate to it, and how much they appreciate it. Some people also get inspired. The first and broadest sense of \"art\" means \"arrangement\" or \"to arrange.\" In this sense, art is created when someone arranges things found in the world into a new or different design or form; or when someone arranges colors or forms next to each other to make an image or just to make a pretty or interesting look. Art can also be an an existing object that is presented and called art, this is called re contextualizing. This is often done by placing the object in a frame or a special setting like a Gallery were the new setting gives the object a different meaning or message. (Marcel Duchamp, Fountain, 1917) The difference between Art and design can be subjective to the viewer and hard to distinguish. Art is often said to have a message or a meaning and design is about only the appearance. Art may express emotion. Artists may feel a certain emotion or message and wish to express it by creating something that means something to them. Most of the art created in this case is made for the artist rather than an audience. However, if an audience is able to connect with the emotion or the message as well, then the art work may become publicly successful. \n",
      "\n",
      "== History of art ==\n",
      "\n",
      " There are sculptures, cave painting and rock art dating from the Upper Paleolithic era. All of the great ancient civilizations, such as Ancient Egypt, India, China, Greece, Rome and Persia had works and styles of art. In the Middle Ages, most of the art in Europe showed people from the Bible in paintings, stained-glass windows, and mosaic tile floors and walls. Islamic art includes geometric patterns, Islamic calligraphy, and architecture. In India and Tibet, painted sculptures, dance, and religious painting were done. In China, arts included jade carving, bronze, pottery, poetry, calligraphy, music, painting, drama, and fiction. There are many Chinese artistic styles, which are usually named after the ruling dynasty. In Europe, after the Middle Ages, there was a \"Renaissance\" which means \"rebirth\". People rediscovered science and artists were allowed to paint subjects other than religious subjects. People like Michelangelo and Leonardo da Vinci still painted religious pictures, but they also now could paint mythological pictures too. These artists also invented perspective where things in the distance look smaller in the picture. This was new because in the Middle Ages people would paint all the figures close up and just overlapping each other. These artists used nudity regularly in their art. In the late 1800s, artists in Europe, responding to Modernity created many new painting styles such as Classicism, Romanticism, Realism, and Impressionism. The history of twentieth century art includes Expressionism, Fauvism, Cubism, Dadaism, Surrealism, and Minimalism. \n",
      "\n",
      "== Roles of art ==\n",
      "\n",
      " In some societies, people think that art belongs to the person who made it. They think that the artist put his or her \"talent\" and industry into the art. In this view, the art is the property of the artist, protected by copyright. In other societies, people think that art belongs to no one. They think that society has put its social capital into the artist and the artist's work. In this view, society is a collective that has made the art, through the artist. \n",
      "\n",
      "=== Functions of art ===\n",
      "\n",
      " The functions of art include: 1) Cognitive function : Works of art let us know about what the creator thought or knew, and what the surroundings of the author were like, real or imagined. 2) Aesthetic function : Works of art can make people happy by being beautiful or evoke any of the emotions. 3) Prognostic function : Some artists draw what they see the future like, and some of them are right, but most are not... 4) Recreation function : Art makes us think about it, not about reality; we have a rest. 5) Value function : What did the artist value? What aims did they like/dislike in human activity? This usually is clearly seen in artists' works. 6) Didactic function : What message, criticism or political change did the artist wish to achieve? \n",
      "\n",
      "== Related pages ==\n",
      "\n",
      " * Art history * Conservation (art) * Modern art * Abstract art * Magnum opus * Painting * Sculpture * Street art \n",
      "\n",
      "== References ==\n",
      "\n",
      " Category:Non-verbal communication Category:Basic English 850 words\n"
     ]
    }
   ],
   "execution_count": 7
  },
  {
   "metadata": {
    "ExecuteTime": {
     "end_time": "2025-01-01T18:45:28.850282Z",
     "start_time": "2025-01-01T18:45:07.330534Z"
    }
   },
   "cell_type": "code",
   "source": [
    "model_openrouter = \"deepseek/deepseek-chat\"\n",
    "\n",
    "start_time = time.time()  # Start the timer\n",
    "\n",
    "markdown_text = convert_text_to_markdown(\n",
    "    model_openrouter=model_openrouter,\n",
    "    raw_text=data.iloc[2][\"text\"],\n",
    "    template=prompts[\"markdown_conversion\"]\n",
    ")\n",
    "\n",
    "end_time = time.time()  # End the timer\n",
    "\n",
    "execution_time = end_time - start_time  # Calculate execution time\n",
    "print(f\"Execution time: {execution_time:.2f} seconds\")"
   ],
   "id": "7d57e322b016da89",
   "outputs": [
    {
     "name": "stdout",
     "output_type": "stream",
     "text": [
      "Execution time: 21.52 seconds\n"
     ]
    }
   ],
   "execution_count": 8
  },
  {
   "metadata": {
    "ExecuteTime": {
     "end_time": "2025-01-01T18:45:28.870160Z",
     "start_time": "2025-01-01T18:45:28.868Z"
    }
   },
   "cell_type": "code",
   "source": "print(markdown_text)",
   "id": "1491af656ea13186",
   "outputs": [
    {
     "name": "stdout",
     "output_type": "stream",
     "text": [
      "# Art\n",
      "\n",
      "Art is a creative activity. It produces a product, an object. Art is a diverse range of human activities in creating visual, performing subjects, and expressing the author's thoughts. The product of art is called a work of art, for others to experience.\n",
      "\n",
      "Some art is useful in a practical sense, such as a sculptured clay bowl that can be used. That kind of art is sometimes called a craft. Those who make art are called artists. They hope to affect the emotions of people who experience it. Some people find art relaxing, exciting or informative. Some say people are driven to make art due to their inner creativity. \"The arts\" is a much broader term. It includes drawing, painting, sculpting, photography, performance art, dance, music, poetry, prose and theatre.\n",
      "\n",
      "## Types of art\n",
      "\n",
      "Art is divided into the plastic arts, where something is made, and the performing arts, where something is done by humans in action. The other division is between pure arts, done for themselves, and practical arts, done for a practical purpose, but with artistic content.\n",
      "\n",
      "* Plastic art\n",
      "  * Fine art is expression by making something beautiful or appealing to the emotions by visual means: drawing, painting, printmaking, sculpture\n",
      "  * Literature: poetry, creative writing\n",
      "* Performing art\n",
      "  * Performing arts are expression using the body: drama, dance, acting, singing\n",
      "  * Auditory art (expression by making sounds): music, singing\n",
      "* Practical art\n",
      "  * Culinary art (expression by making flavors and tastes): cooking\n",
      "  * The practical arts (expression by making things and structures: architecture, filming, fashion, photography, video games)\n",
      "\n",
      "## What \"art\" means\n",
      "\n",
      "Some people say that art is a product or item that is made with the intention of stimulating the human senses as well as the human mind, spirit and soul. Art can also be an Idea or a concept that is expressed visually. An artwork is normally judged by how much impact it has on people, the number of people who can relate to it, and how much they appreciate it. Some people also get inspired.\n",
      "\n",
      "The first and broadest sense of \"art\" means \"arrangement\" or \"to arrange.\" In this sense, art is created when someone arranges things found in the world into a new or different design or form; or when someone arranges colors or forms next to each other to make an image or just to make a pretty or interesting look. Art can also be an existing object that is presented and called art, this is called re contextualizing. This is often done by placing the object in a frame or a special setting like a Gallery were the new setting gives the object a different meaning or message.\n",
      "\n",
      "The difference between Art and design can be subjective to the viewer and hard to distinguish. Art is often said to have a message or a meaning and design is about only the appearance. Art may express emotion. Artists may feel a certain emotion or message and wish to express it by creating something that means something to them. Most of the art created in this case is made for the artist rather than an audience. However, if an audience is able to connect with the emotion or the message as well, then the art work may become publicly successful.\n",
      "\n",
      "## History of art\n",
      "\n",
      "There are sculptures, cave painting and rock art dating from the Upper Paleolithic era. All of the great ancient civilizations, such as Ancient Egypt, India, China, Greece, Rome and Persia had works and styles of art. In the Middle Ages, most of the art in Europe showed people from the Bible in paintings, stained-glass windows, and mosaic tile floors and walls. Islamic art includes geometric patterns, Islamic calligraphy, and architecture. In India and Tibet, painted sculptures, dance, and religious painting were done. In China, arts included jade carving, bronze, pottery, poetry, calligraphy, music, painting, drama, and fiction. There are many Chinese artistic styles, which are usually named after the ruling dynasty.\n",
      "\n",
      "In Europe, after the Middle Ages, there was a \"Renaissance\" which means \"rebirth\". People rediscovered science and artists were allowed to paint subjects other than religious subjects. People like Michelangelo and Leonardo da Vinci still painted religious pictures, but they also now could paint mythological pictures too. These artists also invented perspective where things in the distance look smaller in the picture. This was new because in the Middle Ages people would paint all the figures close up and just overlapping each other. These artists used nudity regularly in their art. In the late 1800s, artists in Europe, responding to Modernity created many new painting styles such as Classicism, Romanticism, Realism, and Impressionism. The history of twentieth century art includes Expressionism, Fauvism, Cubism, Dadaism, Surrealism, and Minimalism.\n",
      "\n",
      "## Roles of art\n",
      "\n",
      "In some societies, people think that art belongs to the person who made it. They think that the artist put his or her \"talent\" and industry into the art. In this view, the art is the property of the artist, protected by copyright. In other societies, people think that art belongs to no one. They think that society has put its social capital into the artist and the artist's work. In this view, society is a collective that has made the art, through the artist.\n",
      "\n",
      "### Functions of art\n",
      "\n",
      "The functions of art include:\n",
      "\n",
      "1. Cognitive function: Works of art let us know about what the creator thought or knew, and what the surroundings of the author were like, real or imagined.\n",
      "2. Aesthetic function: Works of art can make people happy by being beautiful or evoke any of the emotions.\n",
      "3. Prognostic function: Some artists draw what they see the future like, and some of them are right, but most are not...\n",
      "4. Recreation function: Art makes us think about it, not about reality; we have a rest.\n",
      "5. Value function: What did the artist value? What aims did they like/dislike in human activity? This usually is clearly seen in artists' works.\n",
      "6. Didactic function: What message, criticism or political change did the artist wish to achieve?\n",
      "\n",
      "## Related pages\n",
      "\n",
      "* Art history\n",
      "* Conservation (art)\n",
      "* Modern art\n",
      "* Abstract art\n",
      "* Magnum opus\n",
      "* Painting\n",
      "* Sculpture\n",
      "* Street art\n"
     ]
    }
   ],
   "execution_count": 9
  },
  {
   "metadata": {},
   "cell_type": "markdown",
   "source": "## Insert article in DB",
   "id": "142bc2dfb19dba89"
  },
  {
   "metadata": {
    "ExecuteTime": {
     "end_time": "2025-01-01T18:45:28.892960Z",
     "start_time": "2025-01-01T18:45:28.883693Z"
    }
   },
   "cell_type": "code",
   "source": [
    "insert_row(\n",
    "    db_path=db_path,\n",
    "    id=int(data.iloc[2][\"id\"]),\n",
    "    title=data.iloc[2][\"title\"],\n",
    "    raw_text=data.iloc[2][\"text\"],\n",
    "    markdown_text=markdown_text,\n",
    "    raw_text_tokens=count_tokens(tokenizer, data.iloc[2][\"text\"]),\n",
    "    markdown_text_tokens=count_tokens(tokenizer, markdown_text),\n",
    "    model=model_hf,\n",
    "    debug=True\n",
    ")"
   ],
   "id": "e5173b15a20843b1",
   "outputs": [
    {
     "name": "stdout",
     "output_type": "stream",
     "text": [
      "Row inserted successfully with id 6.\n"
     ]
    }
   ],
   "execution_count": 10
  },
  {
   "metadata": {},
   "cell_type": "markdown",
   "source": [
    "## Parallel insertion of multiple articles in the DB\n",
    "\n",
    "We are going to use what we have learned above to first filter the DB and then insert 10 articles in the DB"
   ],
   "id": "8fce26f74f9ae8b9"
  },
  {
   "metadata": {},
   "cell_type": "markdown",
   "source": "## Filter articles already present in the DB",
   "id": "9ca5d4e66aef5d0c"
  },
  {
   "metadata": {
    "ExecuteTime": {
     "end_time": "2025-01-01T18:47:29.182291Z",
     "start_time": "2025-01-01T18:47:29.035934Z"
    }
   },
   "cell_type": "code",
   "source": [
    "filtered_data = filter_rows_in_db(\n",
    "    df=data,\n",
    "    db_path=db_path,\n",
    "    id_column=\"id\",\n",
    ")\n",
    "\n",
    "print(filtered_data.shape)"
   ],
   "id": "8e467d7c15f1905f",
   "outputs": [
    {
     "name": "stdout",
     "output_type": "stream",
     "text": [
      "(258548, 3)\n"
     ]
    }
   ],
   "execution_count": 14
  },
  {
   "metadata": {},
   "cell_type": "markdown",
   "source": "## Process and insert 10 articles in parallel",
   "id": "d2219d4074bfd4e1"
  },
  {
   "metadata": {
    "ExecuteTime": {
     "end_time": "2025-01-01T18:47:34.577986Z",
     "start_time": "2025-01-01T18:47:34.563605Z"
    }
   },
   "cell_type": "code",
   "source": [
    "df_test = filtered_data.iloc[:5].copy()\n",
    "\n",
    "# Estimate number of tokens\n",
    "df_test['text'].apply(lambda x: count_tokens(tokenizer, x))"
   ],
   "id": "67cebb3f7147eae6",
   "outputs": [
    {
     "data": {
      "text/plain": [
       "11     327\n",
       "12    5794\n",
       "13     978\n",
       "14     234\n",
       "15     364\n",
       "Name: text, dtype: int64"
      ]
     },
     "execution_count": 15,
     "metadata": {},
     "output_type": "execute_result"
    }
   ],
   "execution_count": 15
  },
  {
   "metadata": {
    "ExecuteTime": {
     "end_time": "2025-01-01T18:48:55.093027Z",
     "start_time": "2025-01-01T18:47:37.946593Z"
    }
   },
   "cell_type": "code",
   "source": [
    "# Disable tokenizers parallelism to avoid warnings\n",
    "os.environ[\"TOKENIZERS_PARALLELISM\"] = \"false\"\n",
    "\n",
    "parallel_process_dataframe(\n",
    "    data=df_test,\n",
    "    model_openrouter=model_openrouter,\n",
    "    template=prompts[\"markdown_conversion\"],\n",
    "    tokenizer=tokenizer,\n",
    "    model_hf=model_hf,\n",
    "    db_path=db_path,\n",
    "    max_tokens=config[\"max_tokens\"],\n",
    "    max_workers=os.cpu_count() * 5,\n",
    ")"
   ],
   "id": "c7f572c2bc5e1ebc",
   "outputs": [
    {
     "name": "stderr",
     "output_type": "stream",
     "text": [
      "Processing rows: 100%|██████████| 5/5 [01:17<00:00, 15.43s/it]\n"
     ]
    }
   ],
   "execution_count": 16
  }
 ],
 "metadata": {
  "kernelspec": {
   "display_name": "Python 3",
   "language": "python",
   "name": "python3"
  },
  "language_info": {
   "codemirror_mode": {
    "name": "ipython",
    "version": 2
   },
   "file_extension": ".py",
   "mimetype": "text/x-python",
   "name": "python",
   "nbconvert_exporter": "python",
   "pygments_lexer": "ipython2",
   "version": "2.7.6"
  }
 },
 "nbformat": 4,
 "nbformat_minor": 5
}
